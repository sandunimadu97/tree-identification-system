{
 "cells": [
  {
   "cell_type": "markdown",
   "metadata": {
    "id": "dE5MsVdegXVj"
   },
   "source": [
    "# Making Predictions"
   ]
  },
  {
   "cell_type": "code",
   "execution_count": 5,
   "metadata": {},
   "outputs": [],
   "source": [
    "import matplotlib.pyplot as plt\n",
    "import numpy as np\n",
    "import os\n",
    "import PIL\n",
    "import tensorflow as tf\n",
    "from tensorflow import keras\n",
    "from tensorflow.keras import layers\n",
    "from tensorflow.python.keras.layers import Dense, Flatten\n",
    "from tensorflow.keras.models import Sequential\n",
    "from tensorflow.keras.optimizers import Adam"
   ]
  },
  {
   "cell_type": "code",
   "execution_count": 6,
   "metadata": {},
   "outputs": [],
   "source": [
    "model = tf.keras.models.load_model('leafmodel.h5')"
   ]
  },
  {
   "cell_type": "code",
   "execution_count": 7,
   "metadata": {},
   "outputs": [],
   "source": [
    "img_height=224\n",
    "img_width=224"
   ]
  },
  {
   "cell_type": "code",
   "execution_count": 96,
   "metadata": {
    "colab": {
     "base_uri": "https://localhost:8080/"
    },
    "id": "KCURoyOpemgA",
    "outputId": "a7e6aa1b-b57b-4a5c-e6ab-33988d1ec781"
   },
   "outputs": [
    {
     "name": "stdout",
     "output_type": "stream",
     "text": [
      "(1, 224, 224, 3)\n"
     ]
    }
   ],
   "source": [
    "import cv2\n",
    "image=cv2.imread('D:\\Leaves\\Dataset\\Coconut\\DSC_0036.jpg')\n",
    "image_resized= cv2.resize(image, (img_height,img_width))\n",
    "image=np.expand_dims(image_resized,axis=0)\n",
    "print(image.shape)"
   ]
  },
  {
   "cell_type": "code",
   "execution_count": 97,
   "metadata": {
    "colab": {
     "base_uri": "https://localhost:8080/"
    },
    "id": "G1pSzemJe19G",
    "outputId": "cf9a6b94-957b-4410-ef49-8a3df35119ae",
    "scrolled": true
   },
   "outputs": [
    {
     "name": "stdout",
     "output_type": "stream",
     "text": [
      "1/1 [==============================] - 0s 127ms/step\n",
      "[[2.0327384e-03 5.5270175e-06 8.8297272e-09 1.0439758e-05 2.9987376e-08\n",
      "  2.8651714e-09 9.9219280e-01 3.9438745e-03 1.3432601e-06 2.7273927e-07\n",
      "  1.6220913e-08 8.8189131e-07 2.5358520e-12 1.6400496e-04 2.3273785e-07\n",
      "  1.7463873e-07 4.2698853e-06 1.8430449e-04 3.7355559e-05 1.3510172e-06\n",
      "  1.0525089e-09 1.9280384e-04 1.7897093e-12 3.6469984e-08 1.2274493e-03]]\n"
     ]
    }
   ],
   "source": [
    "pred=model.predict(image)\n",
    "print(pred)"
   ]
  },
  {
   "cell_type": "code",
   "execution_count": 98,
   "metadata": {},
   "outputs": [],
   "source": [
    "class_names = ['Aloe', 'Apple', 'Basil', 'Betel', 'Biling', 'Cherry', 'Coconut', 'Corn', 'Curry Leaves', 'Drumstick Leaves', 'Grapes', 'Jackfruit', 'Kalukammeriya', 'Lime', 'Mango', 'Papaya', 'Potato', 'Rampe', 'Rose', 'Seledri', 'Spinach', 'Tea', 'Thampala', 'Tomato', 'guava']"
   ]
  },
  {
   "cell_type": "code",
   "execution_count": 99,
   "metadata": {
    "colab": {
     "base_uri": "https://localhost:8080/"
    },
    "id": "iudnVH8yfpFH",
    "outputId": "209e86e7-bcc1-4b75-b09d-01eebc5aa3dd"
   },
   "outputs": [
    {
     "name": "stdout",
     "output_type": "stream",
     "text": [
      "The predicted class is Coconut\n"
     ]
    }
   ],
   "source": [
    "output_class=class_names[np.argmax(pred)]\n",
    "print(\"The predicted class is\", output_class)"
   ]
  },
  {
   "cell_type": "code",
   "execution_count": 213,
   "metadata": {
    "id": "SLbvPRHXgHGO"
   },
   "outputs": [
    {
     "data": {
      "text/plain": [
       "'C:\\\\Users\\\\Anuja\\\\.keras\\\\datasets\\\\flower_photos\\\\roses\\\\10090824183_d02c613f10_m.jpg'"
      ]
     },
     "execution_count": 213,
     "metadata": {},
     "output_type": "execute_result"
    }
   ],
   "source": [
    "str(roses[0])"
   ]
  },
  {
   "cell_type": "code",
   "execution_count": 20,
   "metadata": {},
   "outputs": [
    {
     "data": {
      "text/plain": [
       "numpy.ndarray"
      ]
     },
     "execution_count": 20,
     "metadata": {},
     "output_type": "execute_result"
    }
   ],
   "source": [
    "type(image)"
   ]
  },
  {
   "cell_type": "code",
   "execution_count": null,
   "metadata": {},
   "outputs": [],
   "source": []
  }
 ],
 "metadata": {
  "accelerator": "GPU",
  "colab": {
   "name": "ResNet-50.ipynb",
   "provenance": []
  },
  "kernelspec": {
   "display_name": "Python 3 (ipykernel)",
   "language": "python",
   "name": "python3"
  },
  "language_info": {
   "codemirror_mode": {
    "name": "ipython",
    "version": 3
   },
   "file_extension": ".py",
   "mimetype": "text/x-python",
   "name": "python",
   "nbconvert_exporter": "python",
   "pygments_lexer": "ipython3",
   "version": "3.9.12"
  }
 },
 "nbformat": 4,
 "nbformat_minor": 1
}
